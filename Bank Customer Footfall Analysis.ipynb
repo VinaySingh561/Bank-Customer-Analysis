{
 "cells": [
  {
   "cell_type": "markdown",
   "id": "3d3ea3f6",
   "metadata": {},
   "source": [
    "Suppose two persons arrive at bank on every two mintue, then<br>\n",
    "Probability of 4 persons arriving at any given time."
   ]
  },
  {
   "cell_type": "code",
   "execution_count": 3,
   "id": "44dc72cf",
   "metadata": {},
   "outputs": [],
   "source": [
    "# Given 6 customers arrive every two minutes\n",
    "rate = 3\n",
    "x = np.arange(0,20)"
   ]
  },
  {
   "cell_type": "code",
   "execution_count": 2,
   "id": "444ec950",
   "metadata": {},
   "outputs": [],
   "source": [
    "import numpy as np\n",
    "import scipy.stats as stats\n",
    "import matplotlib.pyplot as plt\n",
    "import seaborn as sns"
   ]
  },
  {
   "cell_type": "code",
   "execution_count": 4,
   "id": "ed818e26",
   "metadata": {},
   "outputs": [],
   "source": [
    "dist = stats.poisson.pmf(3,x)"
   ]
  },
  {
   "cell_type": "code",
   "execution_count": 5,
   "id": "eda2df21",
   "metadata": {},
   "outputs": [
    {
     "data": {
      "text/plain": [
       "array([0.00000000e+00, 6.13132402e-02, 1.80447044e-01, 2.24041808e-01,\n",
       "       1.95366815e-01, 1.40373896e-01, 8.92350784e-02, 5.21292524e-02,\n",
       "       2.86261442e-02, 1.49942912e-02, 7.56665496e-03, 3.70499396e-03,\n",
       "       1.76953316e-03, 8.27657285e-04, 3.80285801e-04, 1.72070055e-04,\n",
       "       7.68240126e-05, 3.38991900e-05, 1.48035403e-05, 6.40493013e-06])"
      ]
     },
     "execution_count": 5,
     "metadata": {},
     "output_type": "execute_result"
    }
   ],
   "source": [
    "dist"
   ]
  },
  {
   "cell_type": "code",
   "execution_count": 10,
   "id": "0659346f",
   "metadata": {},
   "outputs": [
    {
     "data": {
      "image/png": "[encoded data removed]",
      "text/plain": [
       "<Figure size 432x288 with 1 Axes>"
      ]
     },
     "metadata": {
      "needs_background": "light"
     },
     "output_type": "display_data"
    }
   ],
   "source": [
    "plt.plot(x,dist,'o-')\n",
    "plt.title(\"Poission distribution rate = %i\" %rate);\n",
    "plt.ylabel(\"Probability distribution  function\")\n",
    "plt.xlabel(\"Number of people arrving\");"
   ]
  },
  {
   "cell_type": "code",
   "execution_count": 11,
   "id": "8106aadb",
   "metadata": {},
   "outputs": [
    {
     "data": {
      "text/plain": [
       "-0.0010806958525106936"
      ]
     },
     "execution_count": 11,
     "metadata": {},
     "output_type": "execute_result"
    }
   ],
   "source": [
    "1 - sum(dist[:])"
   ]
  },
  {
   "cell_type": "code",
   "execution_count": 13,
   "id": "15413b55",
   "metadata": {},
   "outputs": [
    {
     "data": {
      "text/plain": [
       "14.03738958142805"
      ]
     },
     "execution_count": 13,
     "metadata": {},
     "output_type": "execute_result"
    }
   ],
   "source": [
    "### For four people coming in\n",
    "dist[5]*100"
   ]
  },
  {
   "cell_type": "code",
   "execution_count": 15,
   "id": "9efaef59",
   "metadata": {},
   "outputs": [
    {
     "data": {
      "text/plain": [
       "0.3388310930207238"
      ]
     },
     "execution_count": 15,
     "metadata": {},
     "output_type": "execute_result"
    }
   ],
   "source": [
    "### For atleast four people coming in\n",
    "1 - sum(dist[:5])"
   ]
  },
  {
   "cell_type": "markdown",
   "id": "7d4e1eb9",
   "metadata": {},
   "source": [
    "## Normal distribution analysis"
   ]
  },
  {
   "cell_type": "markdown",
   "id": "b83a7000",
   "metadata": {},
   "source": [
    "The mean weight of a morning breakfast cereal pack is 0.295 kg with a standard deviation of 0.025 kg. The random variable weight of the pack follows a normal distribution. <br>a)What is the probability that the pack weighs less than 0.280 kg?<br> b)What is the probability that the pack weighs more than 0.350 kg?<br> c)What is the probability that the pack weighs between 0.260 kg to 0.340 kg?"
   ]
  },
  {
   "cell_type": "code",
   "execution_count": 16,
   "id": "41dd99bf",
   "metadata": {},
   "outputs": [
    {
     "data": {
      "text/plain": [
       "0.2742531177500741"
      ]
     },
     "execution_count": 16,
     "metadata": {},
     "output_type": "execute_result"
    }
   ],
   "source": [
    "stats.norm.cdf(0.280,loc = 0.295, scale = 0.025)"
   ]
  },
  {
   "cell_type": "code",
   "execution_count": 17,
   "id": "55abf249",
   "metadata": {},
   "outputs": [
    {
     "data": {
      "text/plain": [
       "0.01390344751349859"
      ]
     },
     "execution_count": 17,
     "metadata": {},
     "output_type": "execute_result"
    }
   ],
   "source": [
    "1 -stats.norm.cdf(0.350,loc = 0.295, scale = 0.025)"
   ]
  },
  {
   "cell_type": "code",
   "execution_count": 19,
   "id": "ca0570ba",
   "metadata": {},
   "outputs": [
    {
     "data": {
      "text/plain": [
       "0.8833130216533032"
      ]
     },
     "execution_count": 19,
     "metadata": {},
     "output_type": "execute_result"
    }
   ],
   "source": [
    "stats.norm.cdf(0.340,loc = 0.295, scale = 0.025)-stats.norm.cdf(0.260,loc = 0.295, scale = 0.025)"
   ]
  },
  {
   "cell_type": "code",
   "execution_count": null,
   "id": "7545aef6",
   "metadata": {},
   "outputs": [],
   "source": []
  }
 ],
 "metadata": {
  "kernelspec": {
   "display_name": "Python 3",
   "language": "python",
   "name": "python3"
  },
  "language_info": {
   "codemirror_mode": {
    "name": "ipython",
    "version": 3
   },
   "file_extension": ".py",
   "mimetype": "text/x-python",
   "name": "python",
   "nbconvert_exporter": "python",
   "pygments_lexer": "ipython3",
   "version": "3.8.8"
  }
 },
 "nbformat": 4,
 "nbformat_minor": 5
}
