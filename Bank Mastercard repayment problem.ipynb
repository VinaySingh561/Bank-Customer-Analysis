{
 "cells": [
  {
   "cell_type": "markdown",
   "id": "ef26b0e3",
   "metadata": {},
   "source": [
    "In this Problem, Bank has issued mastercards to 7 people, and there is 60% chance that people pay their debt. \n",
    "Suppose bank wants to know the distribution of people paying or not, then we need to plot Binomail plot for it."
   ]
  },
  {
   "cell_type": "code",
   "execution_count": 1,
   "id": "5bd55ba4",
   "metadata": {},
   "outputs": [],
   "source": [
    "import numpy as np\n",
    "import scipy.stats as stats\n",
    "import matplotlib.pyplot as plt\n",
    "import seaborn as sns"
   ]
  },
  {
   "cell_type": "code",
   "execution_count": 5,
   "id": "af707b9d",
   "metadata": {},
   "outputs": [],
   "source": [
    "n = 7\n",
    "p = 0.5\n",
    "k = np.arange(0,7)"
   ]
  },
  {
   "cell_type": "code",
   "execution_count": 6,
   "id": "64c06e9b",
   "metadata": {},
   "outputs": [],
   "source": [
    "binom = stats.binom.pmf(k,n,p)"
   ]
  },
  {
   "cell_type": "code",
   "execution_count": 7,
   "id": "142de8b1",
   "metadata": {},
   "outputs": [
    {
     "data": {
      "text/plain": [
       "array([0.0078125, 0.0546875, 0.1640625, 0.2734375, 0.2734375, 0.1640625,\n",
       "       0.0546875])"
      ]
     },
     "execution_count": 7,
     "metadata": {},
     "output_type": "execute_result"
    }
   ],
   "source": [
    "binom"
   ]
  },
  {
   "cell_type": "code",
   "execution_count": 8,
   "id": "319cbc14",
   "metadata": {},
   "outputs": [
    {
     "data": {
      "image/png": "[encoded data removed]",
      "text/plain": [
       "<Figure size 432x288 with 1 Axes>"
      ]
     },
     "metadata": {
      "needs_background": "light"
     },
     "output_type": "display_data"
    }
   ],
   "source": [
    "plt.plot(k,binom,'o-')\n",
    "plt.title('Binomial: n=%i , p=%.2f' % (n,p), fontsize=15)\n",
    "plt.xlabel('Number of Successes')\n",
    "plt.ylabel('Probability of Successes')\n",
    "plt.show()"
   ]
  },
  {
   "cell_type": "markdown",
   "id": "3545de25",
   "metadata": {},
   "source": [
    "### Mean and std of Binomial distribution\n",
    "Mean  = n*p<br>\n",
    "std = sqrt(np[1-p])"
   ]
  },
  {
   "cell_type": "code",
   "execution_count": 12,
   "id": "93f2313a",
   "metadata": {},
   "outputs": [
    {
     "data": {
      "text/plain": [
       "3.5"
      ]
     },
     "execution_count": 12,
     "metadata": {},
     "output_type": "execute_result"
    }
   ],
   "source": [
    "mean = n*p\n",
    "mean\n",
    "## it suggest we can assume that on an average 3.5 people will pay back on time."
   ]
  },
  {
   "cell_type": "code",
   "execution_count": 14,
   "id": "f2f76fe4",
   "metadata": {},
   "outputs": [
    {
     "data": {
      "text/plain": [
       "1.3228756555322954"
      ]
     },
     "execution_count": 14,
     "metadata": {},
     "output_type": "execute_result"
    }
   ],
   "source": [
    "std = np.sqrt(n*p*(1-p))\n",
    "std"
   ]
  },
  {
   "cell_type": "code",
   "execution_count": null,
   "id": "75afb55d",
   "metadata": {},
   "outputs": [],
   "source": []
  }
 ],
 "metadata": {
  "kernelspec": {
   "display_name": "Python 3",
   "language": "python",
   "name": "python3"
  },
  "language_info": {
   "codemirror_mode": {
    "name": "ipython",
    "version": 3
   },
   "file_extension": ".py",
   "mimetype": "text/x-python",
   "name": "python",
   "nbconvert_exporter": "python",
   "pygments_lexer": "ipython3",
   "version": "3.8.8"
  }
 },
 "nbformat": 4,
 "nbformat_minor": 5
}
